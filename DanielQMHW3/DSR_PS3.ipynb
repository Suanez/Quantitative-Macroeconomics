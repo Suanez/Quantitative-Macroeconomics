{
 "cells": [
  {
   "cell_type": "code",
   "execution_count": 1,
   "metadata": {},
   "outputs": [],
   "source": [
    "#Import packages\n",
    "import numpy as np\n",
    "import quantecon as qe\n",
    "import matplotlib.pyplot as plt\n",
    "import timeit\n",
    "import warnings\n",
    "import math as mt\n",
    "from scipy.optimize import fsolve\n",
    "from numba import jit\n",
    "from quantecon.markov import DiscreteDP\n",
    "warnings.filterwarnings(\"ignore\", category=RuntimeWarning)\n",
    "\n",
    "%matplotlib inline\n",
    "\n",
    "\n",
    "\n"
   ]
  },
  {
   "cell_type": "markdown",
   "metadata": {},
   "source": [
    "\n",
    "\n",
    "1 Pose the recursive formulation of the sequential problem without productivity shocks. Discretize the state space and the value function and solve for it under the computational variants listed below. In all these variants use the same initial guess for your value function.\n",
    "    \n",
    "First we define the problem en sequential formulation, so we have:\n",
    "    \n",
    "\\begin{equation*}\n",
    "\\begin{aligned}\n",
    "& \\underset{c,h}{\\max}\n",
    "&& \\sum_{t=0}^{\\infty}\\beta^{t}u(u(c_{t},1-h_{t}= \\ln c_{t} - \\kappa\\dfrac{h_{t}^{1 + \\dfrac{1}{v}}}{1+\\dfrac{1}{v}})\\\\\n",
    "& \\text{subject to}\n",
    "& & c_{t}+i_{t} = y_{t} \\\\\n",
    "&&& y_t = k_{t}^{1-\\theta}(h_t)^\\theta \\\\\n",
    "&&& i_{t} =k_{t+1} - (1-\\delta)k_{t}\n",
    "\\end{aligned}\n",
    "\\end{equation*}\n",
    "\n",
    "Now, we normalize $y=1$ and $h_t =1$ we can rewrite the problem as:\n",
    "\n",
    "\\begin{equation*}\n",
    "\\begin{aligned}\n",
    "& \\underset{c,h}{\\max}\n",
    "&& \\sum_{t=0}^{\\infty}\\beta^{t}u(\\ln c_{t} - \\dfrac{\\kappa v}{1+v})\\\\\n",
    "& \\text{subject to}\n",
    "& & c_{t}= k_{t}^{1-\\theta}+(1-\\delta)k_{t}-k_{t+1}\n",
    "\\end{aligned}\n",
    "\\end{equation*}\n",
    "\n",
    "We use a k' as the control variable, let's define a  \\textit{value function}. It gives the sum of discounted utility from the current period conditional on the state variables. The value function for the current problem is $V(k)$.\n",
    "\n",
    "\\begin{equation*}\n",
    "\\begin{aligned}\n",
    "& \\underset{c,h}{\\max}\n",
    "&& \\sum_{t=0}^{\\infty}\\beta^{t}u(\\ln c - \\dfrac{\\kappa v}{1+v})\\\\\n",
    "& \\text{subject to}\n",
    "& & c= k^{1-\\theta}+(1-\\delta)k-k'\n",
    "\\end{aligned}\n",
    "\\end{equation*}\n",
    "\n",
    "Replace c into the objective function we get:\n",
    "\n",
    "\\begin{equation}\n",
    "    V(k) = \\underset{k' \\in \\Gamma}{\\max}  \\ln u(  k^{1-\\theta}+(1-\\delta)k - k' - \\dfrac{\\kappa v}{1+v}) +\\beta V(k')\n",
    " \\end{equation}\n",
    " \\begin{equation}\n",
    " \\Gamma (k) = \\{k' \\in R_{+}: k' \\leq k^{1-\\theta} + (1-\\delta)k\\}\n",
    "\\end{equation}\n",
    "\n",
    "Notice that there is not aggregate variables.\n",
    "\n",
    "Welfare theorem hold, that is, the RCE is Pareto Optimal\n",
    "\n",
    "Taking the FOC with respect to $k'$\n",
    "\n",
    "\\begin{equation*}\n",
    "\\dfrac{\\partial V(k)}{\\partial k'} = - \\dfrac{1}{k^{1-\\theta} + (1-\\delta)k - k'} - \\lambda_{k} + \\beta \\dfrac{\\partial V(k')}{\\partial k'}\n",
    "\\end{equation*}\n",
    "\n",
    "Now, we have that:\n",
    "\n",
    "\\begin{equation}\n",
    "\\dfrac{\\partial V(k')}{\\partial k'} = u'_{k}(k')\n",
    "\\end{equation}\n",
    "\n",
    "By envelopment theory, since we are solving for interior solution, we can solve for capital steady state:\n",
    "\n",
    "\\begin{equation}\n",
    "\\dfrac{1}{k^{1-\\theta} + (1-\\delta)k - k'} = \\beta \\dfrac{(1-\\theta)k^{\\theta}+ (1-\\delta)}{k^{1-\\theta} + (1-\\delta)k - k'}\n",
    "\\end{equation}\n",
    "\n",
    "so, clearing k:\n",
    "\n",
    "\\begin{equation}\n",
    "1/\\beta -(1-\\delta) = (1-\\theta)k^{\\theta} \\rightarrow k^{\\theta} = \\dfrac{(1- \\beta(1-\\delta)}{\\beta(1-\\delta)}\n",
    "\\end{equation}\n",
    "\n",
    "Finally, we arrive:\n",
    "\n",
    "\\begin{equation}\n",
    "k_{ss} = \\left(\\dfrac{1- \\beta(1-\\delta)}{\\beta(1-\\delta)}\\right)^\\dfrac{1}{\\theta}\n",
    "\\end{equation}"
   ]
  },
  {
   "cell_type": "markdown",
   "metadata": {},
   "source": [
    "## Value function iteration"
   ]
  },
  {
   "cell_type": "markdown",
   "metadata": {},
   "source": [
    " The value function algorithm holds independently of what method we use to approximate V.\n",
    " \n",
    "Step 1: The continuous variable k is descritezed by defining a grid for the values of $k$, that is, $K=(k_1, k_2, \\dots, k_i, \\dots, k_p)$ with $k_1 = k_{min}$ and $k_p = k_{max}$.\n",
    "\n",
    " To do a grid we need to select $k_{min}$ and $k_{max}$, the first one should be slightly higher than zero and the second should be higher than steady state $k^*$."
   ]
  },
  {
   "cell_type": "code",
   "execution_count": 158,
   "metadata": {},
   "outputs": [],
   "source": [
    "#Set the parameters value\n",
    "beta=0.988   \n",
    "theta=0.679\n",
    "delta=0.013\n",
    "kappa=5.24\n",
    "nu=2\n",
    "h=1\n"
   ]
  },
  {
   "cell_type": "code",
   "execution_count": 159,
   "metadata": {},
   "outputs": [],
   "source": [
    "qe.tic()\n",
    "k_ss=(1/(1-theta)*((1/beta)+delta-1))**(-1/theta)\n",
    "k=np.linspace(0.01,1.5*k_ss,100)"
   ]
  },
  {
   "cell_type": "markdown",
   "metadata": {},
   "source": [
    "Step 2: Guess a solution $V^{s=0} \\in R^{p}$, say the null vector, that is, $V^{s=0}=0 \\quad \\forall\\, i ={1 \\dots, p}$. $s$ keeps track the number of iterations."
   ]
  },
  {
   "cell_type": "code",
   "execution_count": 160,
   "metadata": {},
   "outputs": [],
   "source": [
    "V = np.empty(shape=[100,350])\n",
    "# Initial column vector:\n",
    "V[:,0] = np.zeros((100))\n"
   ]
  },
  {
   "cell_type": "markdown",
   "metadata": {},
   "source": [
    "Step 3: Define the return matrix $M$ as follows,\n",
    "            \n",
    "       \n",
    "$$\n",
    "M=\n",
    "\\begin{bmatrix}\n",
    "& m(k_1,k_1) & m(k_1,k_2)& \\cdots &m(k_1,k_p)  \\\\\n",
    "& m(k_2,k_1) & m(k_2,k_2)& \\cdots& m(k_2,k_p)\\\\\n",
    "& \\vdots & \\vdots &    \\ddots &\\vdots\\\\\n",
    "&  m(k_p,k_1) & m(k_p,k_2)& \\cdots& m(k_p,k_p)\\\\\n",
    "\\end{bmatrix}\n",
    "$$              \n",
    "      \n",
    "           \n",
    "The generic element in $M$ contains the return function. $M_{i,j} = m(k_i,k_j) = u(f(k_i) + (1-\\delta)k_i - k_j$ evaluated at all possible combinations $k_i \\in K$ and $k_j \\in K$."
   ]
  },
  {
   "cell_type": "code",
   "execution_count": 161,
   "metadata": {},
   "outputs": [],
   "source": [
    "#all possible combinations \n",
    "K_i,K_j = np.meshgrid(k,k)\n",
    "\n",
    "#Feasible combinations\n",
    "def feasible(k_i,k_j):\n",
    "    return k_i**(1-theta) + (1-delta)*k_i - k_j\n",
    "\n",
    "# Evaluating the feasibility of different combinations\n",
    "N = feasible(K_i,K_j)\n",
    "\n",
    "# Feasible utility function\n",
    "\n",
    "def utility(k_i,k_j):\n",
    "    for i in range(100):\n",
    "        for j in range(100):\n",
    "            if N[i,j] >= 0:\n",
    "                return np.log10(k_i**(1-theta) + (1-delta)*k_i - k_j) - (kappa/(1+(1/nu)))\n",
    "    \n",
    "# Define the matrix return\n",
    "\n",
    "M = utility(K_i,K_j)\n",
    "M[np.isnan(M)] = -1000000\n",
    "    "
   ]
  },
  {
   "cell_type": "markdown",
   "metadata": {},
   "source": [
    "Step 4: Not all values for $c$, hence $k'$, are feasible. The non-negativity restriction on consumption $c_{ij} = f(k_{i}) + (1-\\delta)k_{i} - k_{j} \\geq 0$, implies that $k_{j} \\leq f(k_{i})+ (1-\\delta)k_{i}$\n",
    "        \n",
    "Therfore, we replace \n",
    "$M_{ij} = m(k_{i},k_{j}) = \\omega$  if $k_{j} > f(k_{i}) + (1-\\delta)k_{i}$, where $\\omega$ is a very negative number."
   ]
  },
  {
   "cell_type": "code",
   "execution_count": 162,
   "metadata": {},
   "outputs": [],
   "source": [
    "X = np.empty(shape=[100, 100])\n",
    "G = np.empty(shape=[100, 350])\n"
   ]
  },
  {
   "cell_type": "markdown",
   "metadata": {},
   "source": [
    "Step 5: Given the vector $V^{s} = (V_1^s, V_2^s, \\cdots, V_{i}^{s}, \\cdots V_{p}^{i})$ and the matrix M:\n",
    "        \n",
    "First, we compute the matrix $X$:\n",
    "        \n",
    "\\begin{equation*}\n",
    "X =\n",
    "\\begin{bmatrix}\n",
    "& M_{1,1} + \\beta V_{1}^{s} & M_{1,2} + \\beta V_{2}^{s}  & \\cdots & M_{1,p} + \\beta V_{p}^{s}  \\\\\n",
    "& M_{2,1} + \\beta V_{1}^{s} & M_{2,1} + \\beta V_{2}^{s}&\\cdots&  M_{2,p} + \\beta V_{p}^{s}\\\\\n",
    "& \\vdots & \\vdots &    \\ddots &\\vdots\\\\\n",
    "& M_{p,1} + \\beta V_{1}^{s} & M_{p,2} + \\beta V_{2}^{s}  & \\cdots & M_{p,p} + \\beta V_{p}^{s}\\\\\n",
    "\\end{bmatrix}\n",
    "\\end{equation*}\n",
    "\n",
    "Where the generic element of $X$ is:\n",
    "        \n",
    "        \n",
    "\\begin{equation}\n",
    "X_{i,j} = M_{i,j} + \\beta V_{j}^{s}\n",
    "\\end{equation}\n",
    "        \n",
    "Second, compute the updated value function $V^{s+1}$ as the maximum element in each row of $X$.\n",
    "        \n",
    "\\begin{equation}\n",
    " V^{s+1} =\n",
    "\\begin{bmatrix}\n",
    "& \\max \\{X_{1,1}, X_{1,2}, \\cdots, X_{1,P}\\}&\\\\\n",
    "& \\max \\{X_{2,1}, X_{2,2}, \\cdots, X_{2,P}\\}&\\\\\n",
    "& \\cdots\\\\\n",
    "& \\max \\{X_{P,1}, X_{P,2}, \\cdots, X_{P,P}\\}&\\\\\n",
    "\\end{bmatrix}\n",
    "\\end{equation}"
   ]
  },
  {
   "cell_type": "markdown",
   "metadata": {},
   "source": [
    "Step 6: If $|| V^{s+1} - V^{s}|| < \\epsilon$, stop and report success. Otherwise, go back to the previous step, Step 5, replacing $s = s+1$"
   ]
  },
  {
   "cell_type": "code",
   "execution_count": 95,
   "metadata": {},
   "outputs": [
    {
     "name": "stdout",
     "output_type": "stream",
     "text": [
      "TOC: Elapsed: 0:00:8.62\n",
      "Convergence of the value functions took 348 iterations, in 8.620487451553345 seconds.\n"
     ]
    },
    {
     "data": {
      "image/png": "[encoded data removed]",
      "text/plain": [
       "<Figure size 432x288 with 1 Axes>"
      ]
     },
     "metadata": {
      "needs_background": "light"
     },
     "output_type": "display_data"
    }
   ],
   "source": [
    "qe.tic()\n",
    "count=0\n",
    "\n",
    "\n",
    "for s in range(0,349):\n",
    "    epsilon=0.01\n",
    "    for i in range(100):\n",
    "        for j in range(100):\n",
    "                X[i,j]=M[i,j]+(beta*V[:,s][j])        \n",
    "    for i in range(0,100):\n",
    "        V[:,s+1][i]= np.amax(X[:,i])\n",
    "        G[:,s][i]=np.argmax(X[:,i])\n",
    "        for i in range(0,100):\n",
    "            if abs(V[:,s+1][i]-V[:,s][i])> epsilon:\n",
    "                continue\n",
    "            else:\n",
    "                count +=1\n",
    "                break\n",
    "    \n",
    "T = qe.toc()\n",
    "\n",
    "\n",
    "\n",
    "plt.plot(k,V[:,349])\n",
    "plt.title('Value Function')\n",
    "plt.xlabel('Capital')\n",
    "plt.ylabel('Utility')\n",
    "\n",
    "\n",
    "\n",
    "\n",
    "print(\"Convergence of the value functions took \"+str(s)+\" iterations, in \" + str(T) +\" seconds.\")"
   ]
  },
  {
   "cell_type": "markdown",
   "metadata": {},
   "source": [
    "Step 7: Being thorough:\n",
    "        \n",
    "Check the bounds of the state space are not binding. Otherwise, relax them.\n",
    "            \n",
    "Make sure $\\epsilon$ is small enough. Reduce $\\epsilon$, redo the VFI, and check your answer does not change. Otherwise, keep reducing $\\epsilon$.\n",
    "            \n",
    "Make sure the size of the grid, $p$, is large enough. Increase p, redo the VFI and check your answer does not change. Otherwise, keep increasing p.\n",
    "\n",
    "        \n",
    "The decision rule is obtained as:\n",
    "        \n",
    "\\begin{equation*}\n",
    " g^{s} =\n",
    "\\begin{bmatrix}\n",
    "& \\arg \\max \\{X_{1,1}, X_{1,2}, \\cdots, X_{1,P}\\}&\\\\\n",
    "& \\arg \\max \\{X_{2,1}, X_{2,2}, \\cdots, X_{2,P}\\}&\\\\\n",
    "& \\cdots\\\\\n",
    "& \\arg \\max \\{X_{P,1}, X_{P,2}, \\cdots, X_{P,P}\\}&\\\\\n",
    "\\end{bmatrix}\n",
    "\\end{equation*}\n"
   ]
  },
  {
   "cell_type": "markdown",
   "metadata": {},
   "source": [
    "## Monotonicity"
   ]
  },
  {
   "cell_type": "markdown",
   "metadata": {},
   "source": [
    "We reduces the number of points to be searched on the grid by the VFI algorithm. We use the property that the optimal decision rule increase in $k$. Thus, $k_{j} > k_{i}$ then $g(k_{j}) \\geq g(k_{i})$, so if we are maximizing we can rule out all values that are smaller than $g(k_i)$.\n",
    "        \n",
    "Step 1: For each $k_{i}$, set an optimal lower bound for $g^{s}(k_{i})$ as \n",
    "            \n",
    "\\begin{equation*}\n",
    "   g^{s}(k_{i}) = g^{s}(k_{i-1})\n",
    "\\end{equation*}\n",
    "            \n",
    "            \n",
    "Compute the matrix $X$ only for the pairs $(K-{i},k_{j})$ that satisfy the lower bound, $k_{j} \\geq g^{s}(k_i)$. Not every element in $x$ need to be computed. We need to store the decision rule at the end of each iteration.\n",
    "\n",
    "We use the matrix that we have already define in the previous exercise."
   ]
  },
  {
   "cell_type": "code",
   "execution_count": 98,
   "metadata": {},
   "outputs": [
    {
     "name": "stdout",
     "output_type": "stream",
     "text": [
      "TOC: Elapsed: 0:00:38.17\n"
     ]
    },
    {
     "data": {
      "image/png": "[encoded data removed]",
      "text/plain": [
       "<Figure size 432x288 with 1 Axes>"
      ]
     },
     "metadata": {
      "needs_background": "light"
     },
     "output_type": "display_data"
    },
    {
     "name": "stdout",
     "output_type": "stream",
     "text": [
      "Convergence of the value functions took 348 iterations, in 38.17312145233154 seconds.\n"
     ]
    }
   ],
   "source": [
    "qe.tic()\n",
    "count=0\n",
    "epsilon=0.01\n",
    "\n",
    "X = np.empty(shape=[100,100])\n",
    "G = np.empty(shape=[100, 350])\n",
    "\n",
    "for s in range(0,349):\n",
    "    for i in range(100):\n",
    "        for j in range(100):\n",
    "            if j >= G[:,s+1][i]: \n",
    "                X[i,j]=M[i,j]+(beta*V[:,s][j])\n",
    "        for i in range(100):        \n",
    "            V[:,s+1][i]= np.amax(X[:,i]) \n",
    "            G[:,s][i]=np.argmax(X[:,i])  \n",
    "    for i in range(0,100):\n",
    "        if abs(V[:,s+1][i]-V[:,s][i])> epsilon:\n",
    "            continue\n",
    "        else:\n",
    "            count +=1\n",
    "            break\n",
    "                \n",
    "                       \n",
    "T = qe.toc()\n",
    "\n",
    "k1=np.linspace(0.01,1.5*k_ss,100)\n",
    "plt.plot(k1, V[:,349])       \n",
    "plt.xlabel('k')\n",
    "plt.ylabel('V(k)')\n",
    "plt.show()\n",
    "\n",
    "print(\"Convergence of the value functions took \"+str(s)+\" iterations, in \" + str(T) +\" seconds.\")\n",
    "\n"
   ]
  },
  {
   "cell_type": "markdown",
   "metadata": {},
   "source": [
    "## Concavity of the value function"
   ]
  },
  {
   "cell_type": "markdown",
   "metadata": {},
   "source": [
    "We use the known property that maximised the Bellman equation, $M_{i,j} + \\beta V_{j}$, is strictly concave in $k'$. \n",
    "            \n",
    "Therefore, if $M_{i,j} + \\beta V_{j} > M_{i,j+1} + \\beta V_{j+1}$ then $M_{i,j} + \\beta V_{j} > M_{i,j+2} + \\beta V_{i,j+2}$\n",
    "            \n",
    "When  computing the elements of the matrix $X$ apply the following loop to each row $i$, do $j=\\{1,p\\}$\n",
    "            \n",
    "\\begin{equation*}\n",
    "   X_{i,j} = M_{i,j} + \\beta V_{j}\n",
    "\\end{equation*}\n",
    "           \n",
    "if $X_{i,j-1} > X_{i,j}$, stop and report the optimal value is $X_{i,j-1}$ end do. That is, not all elements in $X$ need to be computed."
   ]
  },
  {
   "cell_type": "code",
   "execution_count": 163,
   "metadata": {},
   "outputs": [
    {
     "name": "stdout",
     "output_type": "stream",
     "text": [
      "TOC: Elapsed: 0:00:34.23\n"
     ]
    },
    {
     "data": {
      "image/png": "[encoded data removed]",
      "text/plain": [
       "<Figure size 432x288 with 1 Axes>"
      ]
     },
     "metadata": {
      "needs_background": "light"
     },
     "output_type": "display_data"
    },
    {
     "name": "stdout",
     "output_type": "stream",
     "text": [
      "Convergence of the value functions took 348 iterations, in 34.23753595352173 seconds.\n"
     ]
    }
   ],
   "source": [
    "qe.tic()\n",
    "count=0\n",
    "\n",
    "\n",
    "\n",
    "V=np.empty(shape=[100, 350])\n",
    "X = np.empty(shape=[100, 100])\n",
    "G = np.empty(shape=[100, 350])\n",
    "\n",
    "for s in range(0,349):\n",
    "    epsilon=0.01\n",
    "    for i in range(100):\n",
    "        for j in range(100):\n",
    "            if X[i,j-1]<X[i,j]: #Concavity\n",
    "                X[i,j]=M[i,j]+(beta*V[:,s][j])        \n",
    "   \n",
    "            V[:,s+1][i]= np.amax(X[:,i]) #Iteration\n",
    "            G[:,s][i]=np.argmax(X[:,i]) \n",
    "    for i in range(0,100):\n",
    "        if abs(V[:,s+1][i]-V[:,s][i])> epsilon:\n",
    "            continue\n",
    "        else:\n",
    "            count +=1\n",
    "            break\n",
    "\n",
    "T = qe.toc()\n",
    "\n",
    "\n",
    "plt.plot(k, V)       \n",
    "plt.xlabel('k')\n",
    "plt.ylabel('V(k)')\n",
    "plt.show()\n",
    "\n",
    "print(\"Convergence of the value functions took \"+str(s)+\" iterations, in \" + str(T) +\" seconds.\")\n",
    "\n"
   ]
  },
  {
   "cell_type": "markdown",
   "metadata": {},
   "source": [
    "## Local search on the decision rule"
   ]
  },
  {
   "cell_type": "markdown",
   "metadata": {},
   "source": [
    " We exploit the property that the optimal decision rule is continuous.\n",
    "        \n",
    "Hence, if we know that $k_{j} = g(k_{i})$, and we have reasonable fine grids, then we hope that $g(k_{t+1}$ is in a small neighbourhood of $k_{j}$. This restricts the elements of $X$ that need to be computed.\n",
    "        \n",
    "Local search is following by practitioners as it has been proved useful. But there is not theorem behind this. We need to check that the bounds that define the neighbourhood are not binding at each iteration. Notice, we need to store the decision rule at the end of each iteration."
   ]
  },
  {
   "cell_type": "code",
   "execution_count": 104,
   "metadata": {},
   "outputs": [
    {
     "name": "stdout",
     "output_type": "stream",
     "text": [
      "TOC: Elapsed: 0:00:5.48\n"
     ]
    },
    {
     "data": {
      "image/png": "[encoded data removed]",
      "text/plain": [
       "<Figure size 432x288 with 1 Axes>"
      ]
     },
     "metadata": {
      "needs_background": "light"
     },
     "output_type": "display_data"
    },
    {
     "name": "stdout",
     "output_type": "stream",
     "text": [
      "Convergence of the value functions took 348 iterations, in 5.485292673110962 seconds.\n"
     ]
    }
   ],
   "source": [
    "qe.tic()\n",
    "count=0\n",
    "\n",
    "\n",
    "V_1 = np.empty(shape=[100, 350])\n",
    "V_1[:,0]=np.zeros((100))\n",
    "G_1 = np.empty(shape=[100, 350])\n",
    "X_1 = np.empty(shape=[100, 350]) \n",
    "for s in range(0,349):\n",
    "    epsilon=0.01\n",
    "    for i in range(99):\n",
    "        for j in range(100):\n",
    "            if j==G_1[:,s+1][i+1] or j==G_1[:,s+1][i-1]:  \n",
    "                X_1[i,j]=M[i,j]+(beta*V_1[:,s][j])\n",
    "                X_1[np.isnan(X_1)] = 0 \n",
    "    for i in range(0,100):\n",
    "        V_1[:,s+1][i]= np.amax(X_1[i,:])\n",
    "        G_1[:,s]=np.argmax(X_1[i,:])\n",
    "    for i in range(0,100):\n",
    "        if abs(V_1[:,s+1][i]-V_1[:,s][i]) >= epsilon:\n",
    "            count +=1\n",
    "            continue\n",
    "        else:\n",
    "            break\n",
    "\n",
    "T = qe.toc()\n",
    "\n",
    "\n",
    "plt.plot(k1, V[:,349])       \n",
    "plt.xlabel('k')\n",
    "plt.ylabel('V(k)')\n",
    "plt.show()\n",
    "\n",
    "print(\"Convergence of the value functions took \"+str(s)+\" iterations, in \" + str(T) +\" seconds.\")\n"
   ]
  },
  {
   "cell_type": "markdown",
   "metadata": {},
   "source": [
    "## Monotonicity and Concavity"
   ]
  },
  {
   "cell_type": "code",
   "execution_count": 164,
   "metadata": {},
   "outputs": [
    {
     "name": "stdout",
     "output_type": "stream",
     "text": [
      "TOC: Elapsed: 0:00:2.95\n"
     ]
    },
    {
     "data": {
      "image/png": "[encoded data removed]",
      "text/plain": [
       "<Figure size 432x288 with 1 Axes>"
      ]
     },
     "metadata": {
      "needs_background": "light"
     },
     "output_type": "display_data"
    },
    {
     "name": "stdout",
     "output_type": "stream",
     "text": [
      "Convergence of the value functions took 348 iterations, in 2.9551303386688232 seconds.\n"
     ]
    }
   ],
   "source": [
    "qe.tic()\n",
    "count=0\n",
    "\n",
    "V1=np.empty(shape=[100, 350])\n",
    "X1 = np.empty(shape=[100, 100])\n",
    "G = np.empty(shape=[100, 350])\n",
    "count=0\n",
    "for s in range(0,349):\n",
    "    epsilon=0.01\n",
    "    for i in range(100):\n",
    "        for j in range(100):\n",
    "            if j >= G[:,s+1][i]: #Monotonicity\n",
    "                if X1[i,j-1]<X1[i,j]: #Concavity\n",
    "                    X1[i,j]=M[i,j]+(beta*V[:,s][j])        \n",
    "    for i in range(0,100):\n",
    "        V1[:,s+1][i]= np.amax(X1[:,i]) \n",
    "        G[:,s][i]=np.argmax(X1[:,i]) \n",
    "    for i in range(0,100):\n",
    "        if abs(V1[:,s+1][i]-V1[:,s][i])> epsilon:\n",
    "            continue\n",
    "        else:\n",
    "            count +=1\n",
    "            break\n",
    "T = qe.toc()\n",
    "\n",
    "\n",
    "k1=np.linspace(0.01,1.5*k_ss,100)\n",
    "plt.plot(k1, V[:,349])       \n",
    "plt.xlabel('k')\n",
    "plt.ylabel('V(k)')\n",
    "plt.show()\n",
    "\n",
    "\n",
    "print(\"Convergence of the value functions took \"+str(s)+\" iterations, in \" + str(T) +\" seconds.\")\n",
    "                "
   ]
  },
  {
   "cell_type": "markdown",
   "metadata": {},
   "source": [
    "## Howard's policy iterations"
   ]
  },
  {
   "cell_type": "markdown",
   "metadata": {},
   "source": [
    "This method is not depend on the properties of the optimal value function, or decision rule. We can apply a guessed decision rule many times to update the value function many times, without solving for the optimal rule at each iteration. We decide how many times $n_h$ to update the value function without updating the decision rule. If we have a decision rule that is not far from the optimal one, higher $n_h$ implies faster convergence, but iterating on the value function while keeping a decision rule obtained in early stages of the VFI might not be that useful. we will store the decision rule at the end of each iteration."
   ]
  },
  {
   "cell_type": "code",
   "execution_count": 139,
   "metadata": {},
   "outputs": [
    {
     "name": "stdout",
     "output_type": "stream",
     "text": [
      "TOC: Elapsed: 0:00:0.00\n"
     ]
    },
    {
     "data": {
      "image/png": "[encoded data removed]",
      "text/plain": [
       "<Figure size 432x288 with 1 Axes>"
      ]
     },
     "metadata": {
      "needs_background": "light"
     },
     "output_type": "display_data"
    },
    {
     "name": "stdout",
     "output_type": "stream",
     "text": [
      "Convergence of the value functions took 0 iterations, in 0.0049860477447509766 seconds.\n"
     ]
    }
   ],
   "source": [
    "qe.tic()\n",
    "\n",
    "# discretize the state space:\n",
    "kSS = ((1/beta-1+delta)/(1-theta))**(-1/theta)\n",
    "nk = 100\n",
    "\n",
    "# Initial guesses and empty matrices:\n",
    "g0 = np.transpose(np.arange(0,100))    \n",
    "g = np.empty([nk, 1])  \n",
    "gki = np.empty([nk, 1])\n",
    "gkj = np.empty([nk, 1])\n",
    "gc = np.empty([nk, 1])\n",
    "\n",
    "epsilon = 0.01 \n",
    "convergence = False\n",
    "s = 0\n",
    "S = 500\n",
    "kappa = 5.24\n",
    "nu=2\n",
    "X = np.empty([nk, nk])\n",
    "V0 = np.zeros([nk,1])\n",
    "V = np.empty([nk,1])\n",
    "\n",
    "\n",
    "while (s < S) and (convergence == False):\n",
    "    for i in range(nk):\n",
    "        gki[i] = k[int(g0[i])]\n",
    "        #gc[i] = k[i]**(1- theta) + (1-delta)*k[i] - gki[i] - (kappa/(1+(1/nu)))\n",
    "        gc[i] = k[i]**(1- theta) + (1-delta)*k[i] - gki[i]\n",
    "        V[i] = np.max(np.log(gc[i]) + beta*V0[i])\n",
    "        g[i] = np.argmax(np.log(gc[i]) + beta*V0[i])   \n",
    "    for i in range(nk):\n",
    "        gkj[i] = k[int(g[i])]\n",
    "        gc[i] = k[i]**(1- theta) + (1-delta)*k[i] - gkj[i]    \n",
    "    if np.max(gkj - gki)>= epsilon:\n",
    "        gki = np.copy(gkj)\n",
    "        gkj = np.empty([nk,1])\n",
    "        s += 1\n",
    "    else:\n",
    "        convergence = True\n",
    "        \n",
    "T = qe.toc()        \n",
    "        \n",
    "plt.plot(k, V, label='V(k)')  \n",
    "plt.xlabel('k')\n",
    "plt.ylabel('V(k)')     \n",
    "plt.show()\n",
    "print(\"Convergence of the value functions took \"+str(s)+\" iterations, in \" + str(T) +\" seconds.\")\n",
    "                "
   ]
  },
  {
   "cell_type": "markdown",
   "metadata": {},
   "source": [
    "### Conclusions\n",
    "\n",
    "We can observe that for monotonicty concavity iterations the performance it have been working badly, we can observe this in the time to find a maximum. May be I have introduced a lot of loop but I tried to follow and structure with respect to the part a). To the policy function I tried to do something diferent because the first method that I used it wasn't working. So, in my met with Albert, he helped me and he also gave me some ideas. So, I used the option while obviously I had to define a new problem, I think is wrong because the time is practically zero.\n",
    "\n",
    "Concavity and monotonicty \\& concavity aren't be ploted, I think I didn't define the concavity form well. But the problem give me the time, althoug may be si wrong I can take an interpretation. Since, the time decrease monotonicity and concavity is more efficiente algorithm. Notice, that both separete are less efficient. \n",
    "\n",
    "I was trying to graph the policy function, but I can not do it."
   ]
  },
  {
   "cell_type": "markdown",
   "metadata": {},
   "source": [
    "## Labour Supply"
   ]
  },
  {
   "cell_type": "markdown",
   "metadata": {},
   "source": [
    "###### Here, I do in the same that in exercis A\n"
   ]
  },
  {
   "cell_type": "code",
   "execution_count": 38,
   "metadata": {},
   "outputs": [
    {
     "name": "stdout",
     "output_type": "stream",
     "text": [
      "TOC: Elapsed: 0:00:24.13\n",
      "Convergence of the value functions took 348 iterations, in 24.13136124610901 seconds.\n"
     ]
    },
    {
     "data": {
      "image/png": "[encoded data removed]",
      "text/plain": [
       "<Figure size 432x288 with 1 Axes>"
      ]
     },
     "metadata": {
      "needs_background": "light"
     },
     "output_type": "display_data"
    }
   ],
   "source": [
    "qe.tic()\n",
    "\n",
    "beta=0.988   \n",
    "theta=.679\n",
    "delta=.013\n",
    "kappa=5.24\n",
    "nu=2\n",
    "\n",
    "\n",
    "# STEP 1: DISCRETIZE THE STATE SPACE. \n",
    "k_ss=(1/(1-theta)*((1/beta)+delta-1))**(-1/theta)\n",
    "k=np.linspace(0.01,1.5*k_ss,100)#evenly spaced grid. \n",
    "h=np.linspace(0,1,5)\n",
    "\n",
    "#STEP 2: Initial guess\n",
    " \n",
    "V = np.empty(shape=[100, 350])\n",
    "#Guess the initial column vector\n",
    "V[:,0]=np.zeros((100))\n",
    "\n",
    "\n",
    "#STEP 3: Feasible return matrix (M).\n",
    "\n",
    "K_i,K_j,H =np.meshgrid(k,k,h)\n",
    "\n",
    "# Feasible combinations\n",
    "def feasibility(k_i,k_j,h):\n",
    "    return (k_i**(1-theta))*(h**theta) + (1-delta)*k_i - k_j\n",
    "\n",
    "\n",
    "N = feasibility(K_i,K_j,H)\n",
    "\n",
    "\n",
    "def utility(k_i,k_j,h):\n",
    "       for i,j,m in zip(range(0,100),range(0,100),range(0,5)):\n",
    "        if N[i,j,m]>=0:\n",
    "            return np.log10(k_i**(1-theta)*(h**theta) + (1-delta)*k_i - k_j) - (kappa/(1+(1/nu)))*(h**(1+(1/nu)))\n",
    "   \n",
    "            \n",
    "\n",
    "M = utility(K_i,K_j,H)\n",
    "np.shape(M)\n",
    "M[np.isnan(M)] = 0\n",
    "\n",
    "\n",
    "X = np.empty(shape=[100, 100, 5])\n",
    "G= np.empty(shape=[100, 350])\n",
    "count=0\n",
    "for s in range(0,349):\n",
    "    epsilon=0.01\n",
    "    for i in range(100):\n",
    "        for j in range(100):\n",
    "            for m in range(5):\n",
    "                X[i,j,m]=M[i,j,m]+(beta*V[:,s][j])\n",
    "    for i in range(0,100):\n",
    "        V[:,s+1][i]= np.amax(X[:,i]) \n",
    "        G[:,s][i]=np.argmax(X[:,i]) \n",
    "    for i in range(0,100):\n",
    "        if abs(V[:,s+1][i]-V[:,s][i])< epsilon:\n",
    "            count +=1\n",
    "            break\n",
    "        else:\n",
    "            continue\n",
    "\n",
    "\n",
    "T = qe.toc()\n",
    "\n",
    "k=np.linspace(0.01,2*k_ss,100)\n",
    "plt.plot(k,V[:,349])\n",
    "plt.xlabel('Capital')\n",
    "plt.ylabel('V(k)')\n",
    "print(\"Convergence of the value functions took \"+str(s)+\" iterations, in \" + str(T) +\" seconds.\")"
   ]
  },
  {
   "cell_type": "markdown",
   "metadata": {},
   "source": [
    "### Conclusions\n",
    "\n",
    "We can observe since the labour is ondegenous now, the time of the loop is higher. It is normally because the variables that we search are two.\n",
    "\n",
    "Maybe the code that I used below is more efficiente, but I am not sure that is well."
   ]
  },
  {
   "cell_type": "markdown",
   "metadata": {},
   "source": [
    "#####  Here, I try to do elaborate a continuous iteration function follow QuanMacro"
   ]
  },
  {
   "cell_type": "code",
   "execution_count": 166,
   "metadata": {},
   "outputs": [
    {
     "name": "stdout",
     "output_type": "stream",
     "text": [
      "TOC: Elapsed: 0:00:10.22\n",
      "Convergence of the value functions took 348 iterations, in 10.221211910247803 seconds.\n"
     ]
    },
    {
     "data": {
      "image/png": "[encoded data removed]",
      "text/plain": [
       "<Figure size 432x288 with 1 Axes>"
      ]
     },
     "metadata": {
      "needs_background": "light"
     },
     "output_type": "display_data"
    }
   ],
   "source": [
    "#Follow QuanMacro(Prove)\n",
    "\n",
    "\n",
    "def sslabor(x):\n",
    "    F = np.zeros(2)\n",
    "    kt = x[0]\n",
    "    ht = x[1]\n",
    "    F[0] = 1/beta - (1-theta)*kt**(-theta)*ht**(theta)-(1-delta)\n",
    "    F[1] = theta*kt**(-theta)*ht**(theta-1) - kappa*(kt**(-theta)*ht**(theta)- delta)\n",
    "    return F\n",
    "khguess = np.ones(2)\n",
    "kss, hss = fsolve(sslabor,khguess)\n",
    "\n",
    "\n",
    "#second step making the grid:\n",
    "qe.tic()\n",
    "k_min =10\n",
    "k_max = 210\n",
    "n_k = 200\n",
    "h_min = 0.15\n",
    "h_max = 0.6\n",
    "n_h = 50\n",
    "\n",
    "\n",
    "k = np.linspace(k_min, k_max, n_k) \n",
    "h = np.linspace(h_min,h_max,n_h)\n",
    "k1k1, hh, k2k2 = np.meshgrid(k,h,k)\n",
    "\n",
    "def retlabor(k1,h,k2):\n",
    "    c = k1**(1-theta)*h**(theta)- k2 + (1-delta)*k1\n",
    "    l = kappa*h**(nu)/nu\n",
    "    if c<0:\n",
    "        c = 0.0000000001\n",
    "    return np.log(c)-l\n",
    "\n",
    "vectrect = np.vectorize(retlabor)\n",
    "M = vectrect(k1k1,hh,k2k2)\n",
    "V0 = np.zeros(200)\n",
    "\n",
    "def bellmanlabor(M,V0):\n",
    "    X = np.ones(2000000).reshape(50,200,200)\n",
    "    for i in range(50):\n",
    "            X[i] = M[i]+beta*V0\n",
    "    C=0\n",
    "    while C<1000:\n",
    "        V0 = np.amax(np.amax(X, axis= 2), axis=0)\n",
    "        for i in range(50):\n",
    "            X[i] = M[i]+beta*V0\n",
    "        C = C+1\n",
    "    for i in range(50):\n",
    "            X[i] = M[i]+beta*V0\n",
    "    nh = np.argmax(np.amax(X, axis=2), axis=0)# Policy for labor\n",
    "    nk = np.zeros(200)\n",
    "    for i in range(200):\n",
    "        nk[i] = np.argmax(X[int(nh[i])][i])# Policy for capital\n",
    "    X = np.ones(2000000).reshape(50,200,200)\n",
    "    for i in range(50):\n",
    "            X[i] = M[i]+beta*V0\n",
    "    return V0, nh, nk, X\n",
    "      \n",
    "V0, nh, nk, X = bellmanlabor(M,V0)\n",
    "\n",
    "T = qe.toc()\n",
    "plt.plot(k,V0,)\n",
    "plt.xlabel('capital')\n",
    "plt.ylabel('V(k)')\n",
    "\n",
    "print(\"Convergence of the value functions took \"+str(s)+\" iterations, in \" + str(T) +\" seconds.\")"
   ]
  },
  {
   "cell_type": "markdown",
   "metadata": {},
   "source": [
    "## Chebyshev"
   ]
  },
  {
   "cell_type": "markdown",
   "metadata": {},
   "source": [
    "Chebyshev regression (Algorithm 6.2 in Judd 1998)\n",
    "\n",
    "Step 1: Compute the $m \\geq n+1 $ Chebyshev interpolation nodes in $[-1, 1]$.\n",
    "    \n",
    "\\begin{equation*}\n",
    "        z_{k} = -cos\\left(\\dfrac{2k-1}{2m}\\pi\\right), k = 1, \\cdots, m\n",
    "    \\end{equation*}\n",
    "Step 2: Adjust the nodes to the $[a, b]$ interval:\n",
    "    \n",
    " \\begin{equation*}\n",
    "        x_{k} = (z_{k} + 1) \\left(\\dfrac{b-a}{2}\\right) + a, k = 1, \\cdots, m\n",
    "    \\end{equation*}\n",
    "    \n",
    "Step 3: Evaluate $f$ at the approximation nodes: $w_{k} = f(x_{k}), k = 1, \\cdots, m.$\n",
    "    \n",
    "Step 4: Compute the Chebyshev coefficients, $\\theta_{i}$, associated with Chebyshev basis $i = 0, \\cdots, n:$\n",
    "    \n",
    "  \\begin{equation*}\n",
    "        \\theta_{i} = \\dfrac{\\sum_{k=1}^{m} w_{k} \\psi_i(z_k)}{\\sum_{k=1}^{m} \\psi_i(z_k) \\psi_i(z_k)}\n",
    "    \\end{equation*}\n",
    "    \n",
    "  to arrive at the approximation for f(x), $x \\in [a,b]$:\n",
    "    \n",
    "  \\begin{equation*}\n",
    "        \\tilde{f}(x) = \\sum_{i=0}^{n} \\theta_{i} \\psi_{i} \\left(2\\dfrac{x-a}{b-a}-1\\right)\n",
    "    \\end{equation*}"
   ]
  },
  {
   "cell_type": "markdown",
   "metadata": {},
   "source": [
    "I will follow the Majoto Nakajima' notes:"
   ]
  },
  {
   "cell_type": "code",
   "execution_count": 171,
   "metadata": {},
   "outputs": [
    {
     "name": "stdout",
     "output_type": "stream",
     "text": [
      "TOC: Elapsed: 0:00:0.41\n",
      "Convergence of the value functions took 348 iterations, in 0.41937708854675293 seconds.\n"
     ]
    },
    {
     "data": {
      "image/png": "[encoded data removed]",
      "text/plain": [
       "<Figure size 432x288 with 1 Axes>"
      ]
     },
     "metadata": {
      "needs_background": "light"
     },
     "output_type": "display_data"
    }
   ],
   "source": [
    "\n",
    "\n",
    "#STEP 1: Set the order of polynomials used for approximation.\n",
    "n=3\n",
    "\n",
    "#STEP 2: Set the tolerance parameter\n",
    "epsilon=0.01\n",
    "\n",
    "#STEP 3: Upper and lower bound of the discrete space state\n",
    "beta=0.988   \n",
    "theta=.679\n",
    "delta=.013\n",
    "kappa=5.24\n",
    "nu=2\n",
    "k_ss=(1/(1-theta)*((1/beta)+delta-1))**(-1/theta)\n",
    "k=np.linspace(0.01,1.5*k_ss,100)#evenly spaced grid. \n",
    "\n",
    "#STEP 4: Compute the collocations nodes. \n",
    "# a) Cheby nodes [-1,1]\n",
    "nodes=[]\n",
    "for i in range(100):\n",
    "    q=np.cos((((2*i)-1)/300)*np.pi)\n",
    "    nodes.append(q)\n",
    "nodes=np.asarray(nodes)\n",
    "\n",
    "#b) Adjust the nodes to the k interval:\n",
    "nod=[]\n",
    "for i in range(100):\n",
    "    q=((nodes[i])*((1.5*k_ss - k[0])/2))+ (((1.5*k_ss + k[0])/2))\n",
    "    nod.append(q)\n",
    "nod=np.asarray(nod)\n",
    "    \n",
    "#STEP 5: Guess for the level of the value function at the points\n",
    "y0=np.ones(100)\n",
    "\n",
    "#STEP 5: Get the Chebyshev coefficients\n",
    "coefficients=np.polynomial.chebyshev.chebfit(nod,y0,n)\n",
    "\n",
    "#STEP 6: Value function guess\n",
    "V0=np.polynomial.chebyshev.chebval(k,coefficients)\n",
    "\n",
    "#STEP 7: Get the policy function\n",
    "#7.1. Get the feasible return matrix M\n",
    "\n",
    "\n",
    "K1,K2=np.meshgrid(k,k)\n",
    "def feasibility(k1,k2):\n",
    "    return k1**(1-theta) + (1-delta)*k1 - k2\n",
    "N = feasibility(K1,K2)\n",
    "def utility(k1,k2):\n",
    "    for i,j in zip(range(0,100),range(0,100)):\n",
    "        if N[i,j]>=0:\n",
    "            return np.log10(k1**(1-theta) + (1-delta)*k1 - k2) - (kappa/(1+(1/nu)))\n",
    "        else:\n",
    "            return -1000\n",
    "M = utility(K1,K2)\n",
    "\n",
    "#7.2. Get the policy function\n",
    "X = np.empty(shape=[100, 100])\n",
    "G0=np.empty(shape=[100,1])\n",
    "for i,j in zip(range(0,100),range(0,100)):\n",
    "    X[i,j]=M[i,j]+(beta*V0[j])\n",
    "    X[np.isnan(X)] = -1000    \n",
    "for i in range(0,100):\n",
    "    G0[i]=np.argmax(X[i,:]) \n",
    "\n",
    "#STEP 8: Update the value function\n",
    "y1=np.empty(shape=[100,1])\n",
    "for i in range(0,100):\n",
    "    y1[i]=utility(k[i],G0[i])+(beta*V0[i])\n",
    "y1[np.isnan(y1)] = 0\n",
    "y1=np.reshape(y1, (100,))\n",
    "\n",
    "#STEP 9: New guess for the coefficients\n",
    "coefficients1=np.polynomial.chebyshev.chebfit(nod,y1,n)\n",
    "\n",
    "\n",
    "#STEP 10: Compare the coefficients:\n",
    "d=np.amax(abs(coefficients - coefficients1))\n",
    "\n",
    "#Since the maximum distance is higher than the tolerance level, we go back to step 6. We need a loop.\n",
    "qe.tic()\n",
    "count=0\n",
    "epsilon=0.01\n",
    "while d>epsilon and count<100:\n",
    "    V=np.polynomial.chebyshev.chebval(k,coefficients1) #VF guess\n",
    "    for i in range(100):\n",
    "        for j in range(100):\n",
    "            X[i,j]=M[i,j]+(beta*V[j])\n",
    "            X[np.isnan(X)] = -100000     \n",
    "        for i in range(0,100): #Policy function\n",
    "            G0[i]=np.argmax(X[i,:]) \n",
    "        for i in range(0,100): #Update the value function\n",
    "            y1[i]=utility(k[i],G0[i])+(beta*V[i])\n",
    "            y1[np.isnan(y1)] = 0\n",
    "            y1=np.reshape(y1, (100,))        \n",
    "        coefficients1=np.polynomial.chebyshev.chebfit(nod,y1,n)\n",
    "        d=np.amax(abs(coefficients - coefficients1))\n",
    "        count +=1\n",
    "\n",
    "T = qe.toc()\n",
    "\n",
    "\n",
    "plt.plot(k,V)\n",
    "\n",
    "\n",
    "print(\"Convergence of the value functions took \"+str(s)+\" iterations, in \" + str(T) +\" seconds.\")"
   ]
  },
  {
   "cell_type": "markdown",
   "metadata": {},
   "source": [
    "The method may be working but something is wrong, the time decrease so the efficient od this algortihm is high but the graph is not working. "
   ]
  },
  {
   "cell_type": "code",
   "execution_count": null,
   "metadata": {},
   "outputs": [],
   "source": []
  }
 ],
 "metadata": {
  "kernelspec": {
   "display_name": "Python 3",
   "language": "python",
   "name": "python3"
  },
  "language_info": {
   "codemirror_mode": {
    "name": "ipython",
    "version": 3
   },
   "file_extension": ".py",
   "mimetype": "text/x-python",
   "name": "python",
   "nbconvert_exporter": "python",
   "pygments_lexer": "ipython3",
   "version": "3.8.3"
  }
 },
 "nbformat": 4,
 "nbformat_minor": 4
}
