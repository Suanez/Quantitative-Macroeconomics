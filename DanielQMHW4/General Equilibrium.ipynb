{
 "cells": [
  {
   "cell_type": "markdown",
   "metadata": {},
   "source": [
    "## Daniel Suañez Ramirez PS4\n",
    "### ABHI Model: General Equilibrium Model"
   ]
  },
  {
   "cell_type": "code",
   "execution_count": 14,
   "metadata": {},
   "outputs": [],
   "source": [
    "import numpy as np\n",
    "from numba import jit\n",
    "import quantecon as qe\n",
    "import matplotlib.pyplot as plt\n",
    "from quantecon.markov import DiscreteDP"
   ]
  },
  {
   "cell_type": "markdown",
   "metadata": {},
   "source": [
    "General Equilibrium theory attempts to explain the behavior of supply, demand, and prices in a whole economy with several or many interacting markets, by seeking to prove that the interaction of demand and supply will result in an overall general equilibrium. General equilibrium theory contrasts to the theory of partial equilibrium, which only analyzes single markets. In general equilibrium, constant influences are considered to be noneconomic, therefore, resulting beyond the natural scope of economic analysis. Specially, prices are determined solving the problem, so wage and interest rate are not exogenous. To solve this problem, We are proce following QuantEcon. "
   ]
  },
  {
   "cell_type": "markdown",
   "metadata": {},
   "source": [
    "The production function is a Cobb-Douglas function. Thus:\n",
    "\n",
    "\\begin{equation}\n",
    "Y = AK^{\\alpha}N^{1-\\alpha}\n",
    "\\end{equation}\n",
    "\n",
    "The maximization problem os the firm is given by:\n",
    "\\begin{equation}\n",
    "\\max_{K, N} = Y -(r+\\delta)K - \\omega N\n",
    "\\end{equation}\n",
    "\n",
    "From the FOC, we obtain the optimal interes rate:\n",
    "\\begin{equation}\n",
    "r = A\\alpha(\\dfrac{N}{K})^{1-\\alpha} - \\delta\n",
    "\\end{equation}\n",
    "\n",
    "we will proceed on the same path to obtain the optimal salary:\n",
    "\\begin{equation}\n",
    "\\omega = A(1-\\alpha)\\left(\\dfrac{A\\alpha}{r+\\delta}\\right)^{\\dfrac{\\alpha}{1-\\alpha}}\n",
    "\\end{equation}\n",
    "\n"
   ]
  },
  {
   "cell_type": "code",
   "execution_count": 17,
   "metadata": {},
   "outputs": [
    {
     "data": {
      "image/png": "[encoded data removed]",
      "text/plain": [
       "<Figure size 432x288 with 1 Axes>"
      ]
     },
     "metadata": {
      "needs_background": "light"
     },
     "output_type": "display_data"
    }
   ],
   "source": [
    "class Household:\n",
    "    def __init__(self,\n",
    "                 r=0.01,                      # interest rate\n",
    "                 w=1.0,                       # wages\n",
    "                 β=1/(1+0.04),                # discount factor\n",
    "                 a_min=1e-10,\n",
    "                 Π=[[0.6, 0.4], [0.4, 0.6]],  # Markov chain\n",
    "                 z_vals=[0.3, 1.3],           # exogenous states\n",
    "                 a_max=18,\n",
    "                 a_size=100):\n",
    "\n",
    "        # Store values, set up grids over a and z\n",
    "        self.r, self.w, self.β = r, w, β\n",
    "        self.a_min, self.a_max, self.a_size = a_min, a_max, a_size\n",
    "\n",
    "        self.Π = np.asarray(Π)\n",
    "        self.z_vals = np.asarray(z_vals)\n",
    "        self.z_size = len(z_vals)\n",
    "\n",
    "        self.a_vals = np.linspace(a_min, a_max, a_size)\n",
    "        self.n = a_size * self.z_size\n",
    "\n",
    "        # Build the array Q\n",
    "        self.Q = np.zeros((self.n, a_size, self.n))\n",
    "        self.build_Q()\n",
    "\n",
    "        # Build the array R\n",
    "        self.R = np.empty((self.n, a_size))\n",
    "        self.build_R()\n",
    "\n",
    "    def set_prices(self, r, w):\n",
    "        \"\"\"\n",
    "        Use this method to reset prices.  Calling the method will trigger a\n",
    "        re-build of R.\n",
    "        \"\"\"\n",
    "        self.r, self.w = r, w\n",
    "        self.build_R()\n",
    "\n",
    "    def build_Q(self):\n",
    "        populate_Q(self.Q, self.a_size, self.z_size, self.Π)\n",
    "\n",
    "    def build_R(self):\n",
    "        self.R.fill(-np.inf)\n",
    "        populate_R(self.R, self.a_size, self.z_size, self.a_vals, self.z_vals, self.r, self.w)\n",
    "\n",
    "\n",
    "@jit(nopython=True)\n",
    "def populate_R(R, a_size, z_size, a_vals, z_vals, r, w):\n",
    "    n = a_size * z_size\n",
    "    for s_i in range(n):\n",
    "        a_i = s_i // z_size\n",
    "        z_i = s_i % z_size\n",
    "        a = a_vals[a_i]\n",
    "        z = z_vals[z_i]\n",
    "        for new_a_i in range(a_size):\n",
    "            a_new = a_vals[new_a_i]\n",
    "            c = w * z + (1 + r) * a - a_new\n",
    "            if c > 0:\n",
    "                R[s_i, new_a_i] = (pow(c,1-4)-1)/(1-4)   # Utility\n",
    "\n",
    "@jit(nopython=True)\n",
    "def populate_Q(Q, a_size, z_size, Π):\n",
    "    n = a_size * z_size\n",
    "    for s_i in range(n):\n",
    "        z_i = s_i % z_size\n",
    "        for a_i in range(a_size):\n",
    "            for next_z_i in range(z_size):\n",
    "                Q[s_i, a_i, a_i * z_size + next_z_i] = Π[z_i, next_z_i]\n",
    "\n",
    "\n",
    "@jit(nopython=True)\n",
    "def asset_marginal(s_probs, a_size, z_size):\n",
    "    a_probs = np.zeros(a_size)\n",
    "    for a_i in range(a_size):\n",
    "        for z_i in range(z_size):\n",
    "            a_probs[a_i] += s_probs[a_i * z_size + z_i]\n",
    "    return a_probs\n",
    "\n",
    "@jit(nopython=True)\n",
    "def consumption_marginal(s_probs, a_size, z_size):\n",
    "    c_probs = np.zeros(a_size)\n",
    "    for a_i in range(a_size):\n",
    "        for z_i in range(z_size):\n",
    "            c_probs[a_i] += s_probs[a_i * z_size + z_i]\n",
    "    return c_probs\n",
    "\n",
    "#Parameters\n",
    "A = 1.0 \n",
    "N = 1.0  #Normalized labor (to 1)\n",
    "α = 0.33 #Capital share\n",
    "β = 1/(1+0.04)\n",
    "δ = 0.05  #Depreciation\n",
    "\n",
    "\n",
    "def r_to_w(r):\n",
    "    \"\"\"\n",
    "    Equilibrium wages associated with a given interest rate r.\n",
    "    \"\"\"\n",
    "    return A * (1 - α) * (A * α / (r + δ))**(α / (1 - α))\n",
    "\n",
    "def rd(K):\n",
    "    \"\"\"\n",
    "    Inverse demand curve for capital.  The interest rate associated with a\n",
    "    given demand for capital K.\n",
    "    \"\"\"\n",
    "    return A * α * (N / K)**(1 - α) - δ\n",
    "\n",
    "\n",
    "def prices_to_capital_stock(am, r):\n",
    "    \"\"\"\n",
    "    Map prices to the induced level of capital stock.\n",
    "    \n",
    "    Parameters:\n",
    "    ----------\n",
    "    \n",
    "    am : Household\n",
    "        An instance of an aiyagari_household.Household \n",
    "    r : float\n",
    "        The interest rate\n",
    "    \"\"\"\n",
    "    w = r_to_w(r)\n",
    "    am.set_prices(r, w)\n",
    "    aiyagari_ddp = DiscreteDP(am.R, am.Q, β)\n",
    "    # Compute the optimal policy\n",
    "    results = aiyagari_ddp.solve(method='policy_iteration')\n",
    "    # Compute the stationary distribution\n",
    "    stationary_probs = results.mc.stationary_distributions[0]\n",
    "    # Extract the marginal distribution for assets\n",
    "    asset_probs = asset_marginal(stationary_probs, am.a_size, am.z_size)\n",
    "    # Return K\n",
    "    return np.sum(asset_probs * am.a_vals)\n",
    "\n",
    "\n",
    "# Create an instance of Household\n",
    "am = Household(a_max=30)\n",
    "\n",
    "# Use the instance to build a discrete dynamic program\n",
    "am_ddp = DiscreteDP(am.R, am.Q, am.β)\n",
    "\n",
    "# Create a grid of r values at which to compute demand and supply of capital\n",
    "num_points = 20\n",
    "r_vals = np.linspace(0.005, 0.04, num_points)\n",
    "\n",
    "# Compute supply of capital\n",
    "k_vals = np.empty(num_points)\n",
    "for i, r in enumerate(r_vals):\n",
    "    k_vals[i] = prices_to_capital_stock(am, r)\n",
    "\n",
    "# Plot against demand for capital by firms\n",
    "fig, ax = plt.subplots()\n",
    "ax.plot(k_vals, r_vals, lw=2, alpha=0.6, label='supply of capital')\n",
    "ax.plot(k_vals, rd(k_vals), lw=2, alpha=0.6, label='demand for capital')\n",
    "ax.set_xlabel('capital')\n",
    "ax.set_ylabel('interest rate')\n",
    "ax.legend(loc='upper right')\n",
    "plt.title('Graph 1: Supply and demand for capital (with CRRA preferences)')\n",
    "\n",
    "plt.show()"
   ]
  },
  {
   "cell_type": "markdown",
   "metadata": {},
   "source": [
    "The equilibrium interest rate is close to 3\\% for the economy under GE. Moreover the supply for the assetr is limited, increasing very slow across time (blue line)."
   ]
  },
  {
   "cell_type": "code",
   "execution_count": 18,
   "metadata": {},
   "outputs": [
    {
     "data": {
      "text/plain": [
       "Text(0.5, 1.0, 'Graph 2: Stationary distribution of assets')"
      ]
     },
     "execution_count": 18,
     "metadata": {},
     "output_type": "execute_result"
    },
    {
     "data": {
      "image/png": "[encoded data removed]",
      "text/plain": [
       "<Figure size 432x288 with 1 Axes>"
      ]
     },
     "metadata": {
      "needs_background": "light"
     },
     "output_type": "display_data"
    }
   ],
   "source": [
    "# Report the endogenous distribution of wealth. \n",
    "\n",
    "#STEP 1: Stationary distribution of wealth. \n",
    "am_ddp = DiscreteDP(am.R, am.Q, am.β)\n",
    "results = am_ddp.solve(method='policy_iteration')\n",
    "# Compute the stationary distribution\n",
    "stationary_probs = results.mc.stationary_distributions[0]\n",
    "# Extract the marginal distribution for assets\n",
    "asset_probs = asset_marginal(stationary_probs, am.a_size, am.z_size)\n",
    "\n",
    "#PLOT\n",
    "plt.hist(asset_probs)\n",
    "plt.title('Graph 2: Stationary distribution of assets')"
   ]
  },
  {
   "cell_type": "markdown",
   "metadata": {},
   "source": [
    "The model is not rigid enough the account either for very egalitarian distributions or for very unequal ones.  "
   ]
  },
  {
   "cell_type": "code",
   "execution_count": 19,
   "metadata": {},
   "outputs": [
    {
     "name": "stdout",
     "output_type": "stream",
     "text": [
      "Average assets:0.0100\n",
      "Standard deviation assets:0.0032\n",
      "Gini coefficient:0.1698\n",
      "80/20 ratio:1.5472\n",
      "Top 1% share:0.02\n",
      "Top 10% share:0.13\n",
      "Bottom 50% share:0.39\n",
      "Middle class share:0.47\n"
     ]
    }
   ],
   "source": [
    "#REPORT SOME STATISTICS\n",
    "\n",
    "\n",
    "def gini(array):\n",
    "    \"\"\"Calculate the Gini coefficient of a numpy array.\"\"\"\n",
    "    array = array.flatten()\n",
    "    if np.amin(array) < 0:\n",
    "        # Values cannot be negative:\n",
    "        array -= np.amin(array)\n",
    "    # Values cannot be 0:\n",
    "    array += 0.0000001\n",
    "    # Values must be sorted:\n",
    "    array = np.sort(array)\n",
    "    # Index per array element:\n",
    "    index = np.arange(1,array.shape[0]+1)\n",
    "    # Number of array elements:\n",
    "    n = array.shape[0]\n",
    "    # Gini coefficient:\n",
    "    return ((np.sum((2 * index - n  - 1) * array)) / (n * np.sum(array)))\n",
    "\n",
    "print('Average assets:'\"{0:.4f}\".format(np.mean(asset_probs)))\n",
    "print('Standard deviation assets:'\"{0:.4f}\".format(np.std(asset_probs)))\n",
    "print('Gini coefficient:'\"{0:.4f}\".format(gini(asset_probs)))\n",
    "print('80/20 ratio:'\"{0:.4f}\".format(np.percentile(asset_probs,80)/np.percentile(asset_probs,20)))\n",
    "\n",
    "order=sorted(asset_probs)\n",
    "top1=order[99]/np.sum(order)\n",
    "top10=np.sum(order[90:99])/np.sum(order)\n",
    "bottom50=np.sum(order[0:50])/np.sum(order)\n",
    "middle=np.sum(order[50:90])/np.sum(order)\n",
    "print('Top 1% share:'\"{0:.2f}\".format(top1))\n",
    "print('Top 10% share:'\"{0:.2f}\".format(top10))\n",
    "print('Bottom 50% share:'\"{0:.2f}\".format(bottom50))\n",
    "print('Middle class share:'\"{0:.2f}\".format(middle))"
   ]
  },
  {
   "cell_type": "markdown",
   "metadata": {},
   "source": [
    "In this particular specification the Gini Index is very low. One of the key mechanisms to change the stationary distribution is the transition matrix and the standard deviation of income shocks."
   ]
  },
  {
   "cell_type": "markdown",
   "metadata": {},
   "source": [
    "### Aiyagari Model (1994)\n",
    "\n",
    "Aiyagari specification:\n",
    "\n",
    "The utility function follow a CRRA, the risk aversion parameter $\\lambda$ have the values $\\{1,3,5\\}$. Also, the discount factor is 0.96 whereas capital share is 0.36. The capital is depreciated at 0.08. Income process$ y = {-3\\sigma, -2\\sigma, -\\sigma, 0, \\sigma, 2\\sigma, 3\\sigma}$. the borrowing limit is 0. We put the focus in $\\lambda = 3 $"
   ]
  },
  {
   "cell_type": "code",
   "execution_count": 16,
   "metadata": {},
   "outputs": [
    {
     "data": {
      "image/png": "[encoded data removed]",
      "text/plain": [
       "<Figure size 432x288 with 1 Axes>"
      ]
     },
     "metadata": {
      "needs_background": "light"
     },
     "output_type": "display_data"
    }
   ],
   "source": [
    "class Household:\n",
    "\n",
    "    def __init__(self,\n",
    "                 r=0.01,                # interest rate\n",
    "                 w=1.0,                 # wages\n",
    "                 β=0.96,                # discount factor\n",
    "                 a_min=0,\n",
    "                 Π=[[0.05, 0.15, 0.2, 0.2, 0.2, 0.15,0.05], [0.05, 0.15, 0.2, 0.2, 0.2, 0.15,0.05], [0.05, 0.15, 0.2, 0.2, 0.2, 0.15,0.05],[0.05, 0.15, 0.2, 0.2, 0.2, 0.15,0.05],[0.05, 0.15, 0.2, 0.2, 0.2, 0.15,0.05],[0.05, 0.15, 0.2, 0.2, 0.2, 0.15,0.05],[0.05, 0.15, 0.2, 0.2, 0.2, 0.15,0.05]],  # Markov chain\n",
    "                 z_vals=[0.01, 0.2, 0.4, 0.6, 0.8, 1, 1.2],\n",
    "                 a_max=18,\n",
    "                 a_size=100):\n",
    "\n",
    " #Some comments on the stochastic income process: the code does not work if we \n",
    " #include negative states; we do not very well how to get the transition probabilities\n",
    " #so, we came up with a creative transition matrix, that it's different from Aiyagari's one. \n",
    "\n",
    "        # Store values, set up grids over a and z\n",
    "        self.r, self.w, self.β = r, w, β\n",
    "        self.a_min, self.a_max, self.a_size = a_min, a_max, a_size\n",
    "\n",
    "        self.Π = np.asarray(Π)\n",
    "        self.z_vals = np.asarray(z_vals)\n",
    "        self.z_size = len(z_vals)\n",
    "\n",
    "        self.a_vals = np.linspace(a_min, a_max, a_size)\n",
    "        self.n = a_size * self.z_size\n",
    "\n",
    "        # Build the array Q\n",
    "        self.Q = np.zeros((self.n, a_size, self.n))\n",
    "        self.build_Q()\n",
    "\n",
    "        # Build the array R\n",
    "        self.R = np.empty((self.n, a_size))\n",
    "        self.build_R()\n",
    "\n",
    "    def set_prices(self, r, w):\n",
    "        \"\"\"\n",
    "        Use this method to reset prices.  Calling the method will trigger a\n",
    "        re-build of R.\n",
    "        \"\"\"\n",
    "        self.r, self.w = r, w\n",
    "        self.build_R()\n",
    "\n",
    "    def build_Q(self):\n",
    "        populate_Q(self.Q, self.a_size, self.z_size, self.Π)\n",
    "\n",
    "    def build_R(self):\n",
    "        self.R.fill(-np.inf)\n",
    "        populate_R(self.R, self.a_size, self.z_size, self.a_vals, self.z_vals, self.r, self.w)\n",
    "\n",
    "@jit(nopython=True)\n",
    "def populate_R(R, a_size, z_size, a_vals, z_vals, r, w):\n",
    "    n = a_size * z_size\n",
    "    for s_i in range(n):\n",
    "        a_i = s_i // z_size\n",
    "        z_i = s_i % z_size\n",
    "        a = a_vals[a_i]\n",
    "        z = z_vals[z_i]\n",
    "        for new_a_i in range(a_size):\n",
    "            a_new = a_vals[new_a_i]\n",
    "            c = w * z + (1 + r) * a - a_new\n",
    "            if c > 0:\n",
    "                R[s_i, new_a_i] = (pow(c,1-3)-1)/(1-3)   # Utility\n",
    "\n",
    "@jit(nopython=True)\n",
    "def populate_Q(Q, a_size, z_size, Π):\n",
    "    n = a_size * z_size\n",
    "    for s_i in range(n):\n",
    "        z_i = s_i % z_size\n",
    "        for a_i in range(a_size):\n",
    "            for next_z_i in range(z_size):\n",
    "                Q[s_i, a_i, a_i * z_size + next_z_i] = Π[z_i, next_z_i]\n",
    "\n",
    "\n",
    "@jit(nopython=True)\n",
    "def asset_marginal(s_probs, a_size, z_size):\n",
    "    a_probs = np.zeros(a_size)\n",
    "    for a_i in range(a_size):\n",
    "        for z_i in range(z_size):\n",
    "            a_probs[a_i] += s_probs[a_i * z_size + z_i]\n",
    "    return a_probs\n",
    "\n",
    "@jit(nopython=True)\n",
    "def consumption_marginal(s_probs, a_size, z_size):\n",
    "    c_probs = np.zeros(a_size)\n",
    "    for a_i in range(a_size):\n",
    "        for z_i in range(z_size):\n",
    "            c_probs[a_i] += s_probs[a_i * z_size + z_i]\n",
    "    return c_probs\n",
    "\n",
    "#Parameters\n",
    "A = 1.0 \n",
    "N = 1.0  #Normalized labor (to 1)\n",
    "α = 0.36 #Capital share\n",
    "β = 0.96\n",
    "δ = 0.08  #Depreciation\n",
    "\n",
    "\n",
    "def r_to_w(r):\n",
    "    \"\"\"\n",
    "    Equilibrium wages associated with a given interest rate r.\n",
    "    \"\"\"\n",
    "    return A * (1 - α) * (A * α / (r + δ))**(α / (1 - α))\n",
    "\n",
    "def rd(K):\n",
    "    \"\"\"\n",
    "    Inverse demand curve for capital.  The interest rate associated with a\n",
    "    given demand for capital K.\n",
    "    \"\"\"\n",
    "    return A * α * (N / K)**(1 - α) - δ\n",
    "\n",
    "\n",
    "def prices_to_capital_stock(am, r):\n",
    "    \"\"\"\n",
    "    Map prices to the induced level of capital stock.\n",
    "    \n",
    "    Parameters:\n",
    "    ----------\n",
    "    \n",
    "    am : Household\n",
    "        An instance of an aiyagari_household.Household \n",
    "    r : float\n",
    "        The interest rate\n",
    "    \"\"\"\n",
    "    w = r_to_w(r)\n",
    "    am.set_prices(r, w)\n",
    "    aiyagari_ddp = DiscreteDP(am.R, am.Q, β)\n",
    "    # Compute the optimal policy\n",
    "    results = aiyagari_ddp.solve(method='policy_iteration')\n",
    "    # Compute the stationary distribution\n",
    "    stationary_probs = results.mc.stationary_distributions[0]\n",
    "    # Extract the marginal distribution for assets\n",
    "    asset_probs = asset_marginal(stationary_probs, am.a_size, am.z_size)\n",
    "    # Return K\n",
    "    return np.sum(asset_probs * am.a_vals)\n",
    "\n",
    "# Create an instance of Household\n",
    "am = Household(a_max=30)\n",
    "\n",
    "# Use the instance to build a discrete dynamic program\n",
    "am_ddp = DiscreteDP(am.R, am.Q, am.β)\n",
    "\n",
    "# Create a grid of r values at which to compute demand and supply of capital\n",
    "num_points = 20\n",
    "r_vals = np.linspace(0.005, 0.04, num_points)\n",
    "\n",
    "# Compute supply of capital\n",
    "k_vals = np.empty(num_points)\n",
    "for i, r in enumerate(r_vals):\n",
    "    k_vals[i] = prices_to_capital_stock(am, r)\n",
    "\n",
    "# Plot against demand for capital by firms\n",
    "fig, ax = plt.subplots()\n",
    "ax.plot(k_vals, r_vals, lw=2, alpha=0.6, label='supply of capital')\n",
    "ax.plot(k_vals, rd(k_vals), lw=2, alpha=0.6, label='demand for capital')\n",
    "ax.set_xlabel('capital')\n",
    "ax.set_ylabel('interest rate')\n",
    "ax.legend(loc='upper right')\n",
    "plt.title('Graph 3: Supply and demand for capital')\n",
    "\n",
    "plt.show()"
   ]
  },
  {
   "cell_type": "markdown",
   "metadata": {},
   "source": [
    "Using calibration for the Aiyagari model, so no one can borrow in this economy. We can observe the distribution of wealth in the next graph and also the equilibrium interest rate above."
   ]
  },
  {
   "cell_type": "code",
   "execution_count": 10,
   "metadata": {},
   "outputs": [
    {
     "data": {
      "text/plain": [
       "Text(0.5, 1.0, 'Graph 4: Stationary distribution of assets')"
      ]
     },
     "execution_count": 10,
     "metadata": {},
     "output_type": "execute_result"
    },
    {
     "data": {
      "image/png": "[encoded data removed]",
      "text/plain": [
       "<Figure size 432x288 with 1 Axes>"
      ]
     },
     "metadata": {
      "needs_background": "light"
     },
     "output_type": "display_data"
    }
   ],
   "source": [
    "# Report the endogenous distribution of wealth. \n",
    "\n",
    "#STEP 1: Stationary distribution of wealth. \n",
    "am_ddp = DiscreteDP(am.R, am.Q, am.β)\n",
    "results = am_ddp.solve(method='policy_iteration')\n",
    "# Compute the stationary distribution\n",
    "stationary_probs = results.mc.stationary_distributions[0]\n",
    "# Extract the marginal distribution for assets\n",
    "asset_probs = asset_marginal(stationary_probs, am.a_size, am.z_size)\n",
    "\n",
    "#PLOT\n",
    "plt.hist(asset_probs)\n",
    "plt.title('Graph 4: Stationary distribution of assets')"
   ]
  },
  {
   "cell_type": "code",
   "execution_count": 11,
   "metadata": {},
   "outputs": [
    {
     "name": "stdout",
     "output_type": "stream",
     "text": [
      "Aggregate wealth:1.00\n",
      "Average assets:0.0100\n",
      "Standard deviation assets:0.0152\n",
      "Gini coefficient:0.7220\n",
      "80/20 ratio:3186.25\n",
      "Top 1% share:0.04\n",
      "Top 10% share:0.37\n",
      "Bottom 50% share:0.01\n"
     ]
    }
   ],
   "source": [
    "#REPORT SOME STATISTICS\n",
    "\n",
    "\n",
    "def gini(array):\n",
    "    \"\"\"Calculate the Gini coefficient of a numpy array.\"\"\"\n",
    "    array = array.flatten()\n",
    "    if np.amin(array) < 0:\n",
    "        # Values cannot be negative:\n",
    "        array -= np.amin(array)\n",
    "    # Values cannot be 0:\n",
    "    array += 0.0000001\n",
    "    # Values must be sorted:\n",
    "    array = np.sort(array)\n",
    "    # Index per array element:\n",
    "    index = np.arange(1,array.shape[0]+1)\n",
    "    # Number of array elements:\n",
    "    n = array.shape[0]\n",
    "    # Gini coefficient:\n",
    "    return ((np.sum((2 * index - n  - 1) * array)) / (n * np.sum(array)))\n",
    "\n",
    "print('Aggregate wealth:'\"{0:.2f}\".format(np.sum(asset_probs)))\n",
    "print('Average assets:'\"{0:.4f}\".format(np.mean(asset_probs)))\n",
    "print('Standard deviation assets:'\"{0:.4f}\".format(np.std(asset_probs)))\n",
    "print('Gini coefficient:'\"{0:.4f}\".format(gini(asset_probs)))\n",
    "print('80/20 ratio:'\"{0:.2f}\".format(np.percentile(asset_probs,80)/np.percentile(asset_probs,20)))\n",
    "order=sorted(asset_probs)\n",
    "top1=order[99]/np.sum(order)\n",
    "top10=np.sum(order[90:99])/np.sum(order)\n",
    "bottom50=np.sum(order[0:50])/np.sum(order)\n",
    "middle=np.sum(order[50:90])/np.sum(order)\n",
    "print('Top 1% share:'\"{0:.2f}\".format(top1))\n",
    "print('Top 10% share:'\"{0:.2f}\".format(top10))\n",
    "print('Bottom 50% share:'\"{0:.2f}\".format(bottom50))"
   ]
  },
  {
   "cell_type": "markdown",
   "metadata": {},
   "source": [
    "The Gini coefficient is 0.727, so we have an unequal distribution, with lot of people in the extreme values, more or less this reproduce the wealth inequality reported by Krueger, Mitman and Perri."
   ]
  },
  {
   "cell_type": "code",
   "execution_count": null,
   "metadata": {},
   "outputs": [],
   "source": []
  },
  {
   "cell_type": "code",
   "execution_count": null,
   "metadata": {},
   "outputs": [],
   "source": []
  }
 ],
 "metadata": {
  "kernelspec": {
   "display_name": "Python 3",
   "language": "python",
   "name": "python3"
  },
  "language_info": {
   "codemirror_mode": {
    "name": "ipython",
    "version": 3
   },
   "file_extension": ".py",
   "mimetype": "text/x-python",
   "name": "python",
   "nbconvert_exporter": "python",
   "pygments_lexer": "ipython3",
   "version": "3.8.5"
  }
 },
 "nbformat": 4,
 "nbformat_minor": 4
}
